{
 "cells": [
  {
   "cell_type": "markdown",
   "metadata": {},
   "source": [
    "## 1.0\n",
    "**Problem 1.** Consider the three mass-four spring system in figure below <img src=\"kuanyshbay_maksat_201512000_assign_04.png\" width=\"400\" height=\"100\">\n",
    "<br>Determining the equations of motion from $\\sum F_x = ma$, for each mass using its free-body diagram results in the following differential equations:$$\\begin{array}{l} a_1 + \\frac{k_1+k_2}{m_1}x_1-\\frac{k_2}{m_1}x_2=0 \\\\ \n",
    "a_2-\\frac{k_2}{m_2}x_1+\\frac{k_2+k_3}{m_2}x_2-\\frac{k_3}{m_2}x_3=0 \\\\\n",
    "a_3-\\frac{k_3}{m_3}x_2+\\frac{k_3+k_4}{m_3}x_3=0 \\end{array} \\tag{1}$$ where $k_1=k_4=10 \\ N/m$, $k_2=k_3=30 \\ N/m$, and $m_1=m_2=m_3=2$ kg. Write the three equations in matrix form: \n",
    "<br><br>$$[k/m \\ \\text{matrix}][\\text{displacement vector} \\ x] = [\\text{Acceleration vector}] \\tag{2}$$<br>\n",
    "At a specific time where $a_1=0.1 \\ m/s^2$, $a_2=0.3 \\ m/s^2$, and $a_3=0.1 \\ m/s^2$, this forms a tridiagonal system. Solve for the displacement of each mass using **your own python implementation of the Thomas's algorithm** for solving the tridiagonal systems of equations."
   ]
  },
  {
   "cell_type": "markdown",
   "metadata": {},
   "source": [
    "## 1.1\n",
    "The matrix form of the equations:\n",
    "<br>\n",
    "$$\\begin{bmatrix} -\\frac{k_1+k_2}{m_1} & \\frac{k_2}{m_1} & 0 \\\\ \\frac{k_2}{m_2} & -\\frac{k_2+k_3}{m_2} & \\frac{k_3}{m_2} \\\\ 0 & \\frac{k_3}{m_3} & -\\frac{k_3+k_4}{m_3} \\end{bmatrix} \\begin{bmatrix} x_1 \\\\ x_2 \\\\ x_3 \\end{bmatrix} = \\begin{bmatrix} a_1 \\\\ a_2 \\\\ a_3 \\end{bmatrix} \\tag{2.1}$$\n",
    "(2.1) with substituted values:\n",
    "<br>\n",
    "$$\\begin{bmatrix} -20 & 15 & 0 \\\\ 15 & -30 & 15 \\\\ 0 & 15 & -20 \\end{bmatrix} \\begin{bmatrix} x_1 \\\\ x_2 \\\\ x_3 \\end{bmatrix} = \\begin{bmatrix} 0.1 \\\\ 0.3 \\\\ 0.1\\end{bmatrix} \\tag{2.2}$$"
   ]
  },
  {
   "cell_type": "code",
   "execution_count": 1,
   "metadata": {},
   "outputs": [],
   "source": [
    "#1.2\n",
    "import numpy as np\n",
    "def tom(A):                       #my own python implementation of the Thomas's algorithm\n",
    "    n = np.shape(A)[0]\n",
    "    d = np.zeros(n, float)        #array for the diagonal of the matrix\n",
    "    d[n-1] = A[n-1,n-1]\n",
    "    u = np.zeros(n-1, float)      #array for the upper diagonal of the matrix  \n",
    "    l = np.zeros(n-1, float)      #array for the lower diagonal of the matrix \n",
    "    b = np.zeros(n, float)        #array for the last column of the matrix\n",
    "    b[n-1] = A[n-1,n]\n",
    "    x = np.zeros(n, float)\n",
    "    \n",
    "    for i in range(n-1):\n",
    "        d[i] = A[i,i]\n",
    "        u[i] = A[i, i+1]\n",
    "        l[i] = A[i+1, i]\n",
    "        b[i] = A[i,n]\n",
    "        \n",
    "    for i in range(n-1):\n",
    "        d[i+1] = d[i+1] - u[i]*l[i]/d[i]\n",
    "        b[i+1] = b[i+1] - b[i]*l[i]/d[i]\n",
    "        \n",
    "    x[n-1] = b[n-1]/d[n-1]\n",
    "    \n",
    "    for i in range(n-1):\n",
    "        x[n-2-i] = (b[n-2-i] - u[n-2-i]*x[n-1-i])/d[n-2-i]\n",
    "    \n",
    "    return x"
   ]
  },
  {
   "cell_type": "code",
   "execution_count": 2,
   "metadata": {},
   "outputs": [
    {
     "data": {
      "text/plain": [
       "array([-0.05, -0.06, -0.05])"
      ]
     },
     "execution_count": 2,
     "metadata": {},
     "output_type": "execute_result"
    }
   ],
   "source": [
    "#1.3\n",
    "A = np.matrix([[-20, 15, 0, 0.1], [15, -30, 15, 0.3], [0, 15, -20, 0.1]], float)\n",
    "tom(A)"
   ]
  },
  {
   "cell_type": "markdown",
   "metadata": {},
   "source": [
    "## 2.0\n",
    "**Problem 2.**\n",
    "<br>**a)** Implement the Cholesky factorization algorithm in python which is analogous to $LU$ factorization but applicable only for symmetric matrices. Compute the Cholesky factorization for the matrix $$A=\\begin{bmatrix} 2 & 1 & 1 \\\\ 1 & 4 & 2 \\\\ 1 & 2 & 6\\end{bmatrix} \\tag{3}$$\n",
    "**b)** The following system of equations is designed to determine concentrations (the c's in g/m$^3$) in a series of coupled reactors as a function of the amount of mass input to each reactor (the right-hand sides in g/day), $$\\begin{array}{r} 15c_1 - 3c_2-c_3=3300 \\\\ \n",
    "-3c_1+18c_2-6c_3=1200 \\\\\n",
    "-4c_1-c_2+12c_3=2400 \\end{array} \\tag{4}$$\n",
    "\n",
    "Solve this problem with the Gauss-Seidel iteration method to $\\varepsilon_S$ = 5%."
   ]
  },
  {
   "cell_type": "code",
   "execution_count": 3,
   "metadata": {},
   "outputs": [],
   "source": [
    "#2.1 part a)\n",
    "def chlsk(A):                     #my own python implementation of the Cholesky factorization\n",
    "    n = np.shape(A)[0]\n",
    "    L = np.zeros(np.shape(A),float)\n",
    "    \n",
    "    for i in range(n):\n",
    "        temp = 0.0\n",
    "        \n",
    "        for j in range(i):\n",
    "            temp2 = 0.0\n",
    "            for k in range(j):\n",
    "                temp2 = temp2 + L[j, k]*L[i, k]\n",
    "            L[i, j] = (A[i, j] - temp2)/L[j, j]\n",
    "            temp = temp + L[i, j]**2\n",
    "        \n",
    "        L[i, i] = np.sqrt(A[i, i] - temp)\n",
    "    \n",
    "    return L"
   ]
  },
  {
   "cell_type": "code",
   "execution_count": 4,
   "metadata": {},
   "outputs": [
    {
     "name": "stdout",
     "output_type": "stream",
     "text": [
      "Matrix L: \n",
      " [[1.41421356 0.         0.        ]\n",
      " [0.70710678 1.87082869 0.        ]\n",
      " [0.70710678 0.80178373 2.20389266]] \n",
      "\n",
      "Matrix multiplication of L's transpose and L: \n",
      " [[3.         1.88982237 1.55838744]\n",
      " [1.88982237 4.14285714 1.76704527]\n",
      " [1.55838744 1.76704527 4.85714286]]\n",
      "\n"
     ]
    }
   ],
   "source": [
    "#2.2 part a)\n",
    "A = np.matrix([[2, 1, 1], [1, 4, 2], [1, 2, 6]], float)\n",
    "L = chlsk(A)\n",
    "print(f'Matrix L: \\n {L} \\n')\n",
    "print(f'Matrix multiplication of L\\'s transpose and L: \\n {np.matmul(np.transpose(L),L)}\\n')"
   ]
  },
  {
   "cell_type": "code",
   "execution_count": 5,
   "metadata": {},
   "outputs": [],
   "source": [
    "#2.3 part b)\n",
    "def gsi(A, tol):                  #my own python implementation of the Gauss-Seidel iteration method\n",
    "    n = np.shape(A)[0]\n",
    "    x = np.zeros(n, float)\n",
    "    xold = np.zeros(n, float)\n",
    "    \n",
    "    for i in range(10000):\n",
    "        good = 0\n",
    "        \n",
    "        for j in range(n):\n",
    "            xold[j] = x[j]\n",
    "            x[j] = A[j, n]/A[j,j]\n",
    "            \n",
    "            for k in range(n):\n",
    "                if (k == j):\n",
    "                    continue\n",
    "                x[j] = x[j] - A[j,k]*x[k]/A[j,j]\n",
    "        \n",
    "        for t in range(n):\n",
    "            if (np.abs((x[t]-xold[t])/x[t])) >= tol/100:\n",
    "                good = 1\n",
    "                break\n",
    "                \n",
    "        if (good == 0):\n",
    "            break\n",
    "    return x"
   ]
  },
  {
   "cell_type": "code",
   "execution_count": 6,
   "metadata": {},
   "outputs": [
    {
     "name": "stdout",
     "output_type": "stream",
     "text": [
      "c_1 = 283.7028230420921 \n",
      "c_2 = 217.8033174275813 \n",
      "c_3 = 312.71788413299583\n"
     ]
    }
   ],
   "source": [
    "#2.4 part b)\n",
    "C = np.matrix([[15, -3, -1, 3300], [-3, 18, -6, 1200], [-4, -1, 12, 2400]], float)\n",
    "c = gsi(C, 5)\n",
    "print(f'c_1 = {c[0]} \\nc_2 = {c[1]} \\nc_3 = {c[2]}')"
   ]
  }
 ],
 "metadata": {
  "kernelspec": {
   "display_name": "Python 3",
   "language": "python",
   "name": "python3"
  },
  "language_info": {
   "codemirror_mode": {
    "name": "ipython",
    "version": 3
   },
   "file_extension": ".py",
   "mimetype": "text/x-python",
   "name": "python",
   "nbconvert_exporter": "python",
   "pygments_lexer": "ipython3",
   "version": "3.7.1"
  }
 },
 "nbformat": 4,
 "nbformat_minor": 2
}
